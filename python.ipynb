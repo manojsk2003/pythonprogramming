{
 "cells": [
  {
   "cell_type": "code",
   "execution_count": 2,
   "metadata": {},
   "outputs": [
    {
     "name": "stdout",
     "output_type": "stream",
     "text": [
      "hello world\n"
     ]
    }
   ],
   "source": [
    "print(\"hello world\")"
   ]
  },
  {
   "cell_type": "code",
   "execution_count": 3,
   "metadata": {},
   "outputs": [
    {
     "name": "stdout",
     "output_type": "stream",
     "text": [
      "hello universe\n"
     ]
    }
   ],
   "source": [
    "print(\"hello universe\")"
   ]
  },
  {
   "cell_type": "code",
   "execution_count": 40,
   "metadata": {},
   "outputs": [
    {
     "name": "stdout",
     "output_type": "stream",
     "text": [
      "total number of values present in the list is:  2\n",
      "[1, 2, '_']\n"
     ]
    }
   ],
   "source": [
    "list_of_num=[1,1,2]\n",
    "new_list=[]\n",
    "for digit in list_of_num:\n",
    "    if digit not in new_list:\n",
    "        new_list.append(digit)\n",
    "    else:\n",
    "        pass\n",
    "        \n",
    "print(\"total number of values present in the list is: \",len(new_list))\n",
    "if len(list_of_num)!=len(new_list):\n",
    "    s=len(list_of_num)-len(new_list)\n",
    "    for i in range(0,s):\n",
    "        new_list.append(\"_\")\n",
    "\n",
    "print(new_list)\n"
   ]
  },
  {
   "cell_type": "markdown",
   "metadata": {},
   "source": [
    "# to remove duplicates and append \"_\" using class"
   ]
  },
  {
   "cell_type": "code",
   "execution_count": 27,
   "metadata": {},
   "outputs": [
    {
     "name": "stdout",
     "output_type": "stream",
     "text": [
      "[1, 22, 33, 4, 5, 66, 5, 4]\n",
      "modified list is:  [1, 22, 33, 4, 5, 66, '_', '_']\n"
     ]
    }
   ],
   "source": [
    "class solution:\n",
    "    def __init__(self,list_of_num=0,new_list=0):\n",
    "        self.list_of_num=list_of_num\n",
    "        self.new_list=new_list\n",
    "    def __str__(self):\n",
    "        pass\n",
    "    \n",
    "def operation(op):\n",
    "    op.new_list=[]\n",
    "    for digit in op.list_of_num:\n",
    "        if digit not in op.new_list:\n",
    "            op.new_list.append(digit)\n",
    "        else:\n",
    "            continue\n",
    "    #return op.new_list\n",
    "\n",
    "def final_output():\n",
    "    if len(obj.list_of_num)!=len(obj.new_list):\n",
    "        diff=len(obj.list_of_num)-len(obj.new_list)\n",
    "        for i in range(0,diff):\n",
    "            obj.new_list.append(\"_\")\n",
    "    return obj.new_list\n",
    "            \n",
    "    \n",
    "\n",
    "#main code\n",
    "obj=solution()\n",
    "obj.list_of_num=list(map(int,input(\"enter a list\").split()))\n",
    "print(obj.list_of_num)    \n",
    "operation(obj)\n",
    "output=final_output()\n",
    "print(\"modified list is: \",output)\n",
    "\n",
    "        "
   ]
  },
  {
   "cell_type": "markdown",
   "metadata": {},
   "source": [
    "# find the index of the first occurance of the string"
   ]
  },
  {
   "cell_type": "code",
   "execution_count": 44,
   "metadata": {},
   "outputs": [
    {
     "name": "stdout",
     "output_type": "stream",
     "text": [
      "-1\n"
     ]
    }
   ],
   "source": [
    "s=\"bhupendra jogi\"\n",
    "occ=s.find(\"yogi\")\n",
    "print(occ)"
   ]
  },
  {
   "cell_type": "markdown",
   "metadata": {},
   "source": [
    "# merge two sorted list"
   ]
  },
  {
   "cell_type": "code",
   "execution_count": 46,
   "metadata": {},
   "outputs": [
    {
     "name": "stdout",
     "output_type": "stream",
     "text": [
      "[1, 1, 2, 2, 3, 4, 5]\n"
     ]
    }
   ],
   "source": [
    "a=[1,2,4]\n",
    "b=[1,2,3,5]\n",
    "for num in a:\n",
    "    b.append(num)\n",
    "b=sorted(b)\n",
    "print(b)"
   ]
  },
  {
   "cell_type": "markdown",
   "metadata": {},
   "source": []
  },
  {
   "cell_type": "code",
   "execution_count": null,
   "metadata": {},
   "outputs": [],
   "source": []
  }
 ],
 "metadata": {
  "kernelspec": {
   "display_name": "base",
   "language": "python",
   "name": "python3"
  },
  "language_info": {
   "codemirror_mode": {
    "name": "ipython",
    "version": 3
   },
   "file_extension": ".py",
   "mimetype": "text/x-python",
   "name": "python",
   "nbconvert_exporter": "python",
   "pygments_lexer": "ipython3",
   "version": "3.10.9"
  }
 },
 "nbformat": 4,
 "nbformat_minor": 2
}
