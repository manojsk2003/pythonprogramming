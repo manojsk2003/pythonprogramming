{
 "cells": [
  {
   "cell_type": "code",
   "execution_count": 2,
   "metadata": {},
   "outputs": [
    {
     "name": "stdout",
     "output_type": "stream",
     "text": [
      "hello world\n"
     ]
    }
   ],
   "source": [
    "print(\"hello world\")"
   ]
  },
  {
   "cell_type": "code",
   "execution_count": 3,
   "metadata": {},
   "outputs": [
    {
     "name": "stdout",
     "output_type": "stream",
     "text": [
      "hello universe\n"
     ]
    }
   ],
   "source": [
    "print(\"hello universe\")"
   ]
  },
  {
   "cell_type": "code",
   "execution_count": 13,
   "metadata": {},
   "outputs": [
    {
     "name": "stdout",
     "output_type": "stream",
     "text": [
      "1\n",
      "[1, 2, 3, 4, 5, '_']\n"
     ]
    }
   ],
   "source": [
    "list_of_num=[1,2,3,4,5,4]\n",
    "new_list=[]\n",
    "for digit in list_of_num:\n",
    "    if digit not in new_list:\n",
    "        new_list.append(digit)\n",
    "    else:\n",
    "        pass\n",
    "        \n",
    "\n",
    "if len(list_of_num)!=len(new_list):\n",
    "    s=len(list_of_num)-len(new_list)\n",
    "    print(s)\n",
    "    for i in range(0,s):\n",
    "        new_list.append(\"_\")\n",
    "print(new_list)"
   ]
  },
  {
   "cell_type": "code",
   "execution_count": 26,
   "metadata": {},
   "outputs": [
    {
     "name": "stdout",
     "output_type": "stream",
     "text": [
      "[1, 2, 3, 4, 5, 4]\n",
      "[1, 2, 3, 4, 5]\n",
      "modified list is:  [1, 2, 3, 4, 5, '_']\n"
     ]
    }
   ],
   "source": [
    "class solution:\n",
    "    def __init__(self,list_of_num=0,new_list=0):\n",
    "        self.list_of_num=list_of_num\n",
    "        self.new_list=new_list\n",
    "    def __str__(self):\n",
    "        pass\n",
    "    \n",
    "def operation(op):\n",
    "    op.new_list=[]\n",
    "    for digit in op.list_of_num:\n",
    "        if digit not in op.new_list:\n",
    "            op.new_list.append(digit)\n",
    "        else:\n",
    "            continue\n",
    "    #return op.new_list\n",
    "\n",
    "def final_output():\n",
    "    if len(obj.list_of_num)!=len(obj.new_list):\n",
    "        diff=len(obj.list_of_num)-len(obj.new_list)\n",
    "        for i in range(0,diff):\n",
    "            obj.new_list.append(\"_\")\n",
    "    return obj.new_list\n",
    "            \n",
    "    \n",
    "\n",
    "#main code\n",
    "obj=solution()\n",
    "obj.list_of_num=list(map(int,input(\"enter a list\").split()))\n",
    "print(obj.list_of_num)    \n",
    "operation(obj)\n",
    "output=final_output()\n",
    "print(\"modified list is: \",output)\n",
    "\n",
    "        "
   ]
  },
  {
   "cell_type": "code",
   "execution_count": null,
   "metadata": {},
   "outputs": [],
   "source": []
  },
  {
   "cell_type": "code",
   "execution_count": null,
   "metadata": {},
   "outputs": [],
   "source": []
  }
 ],
 "metadata": {
  "kernelspec": {
   "display_name": "base",
   "language": "python",
   "name": "python3"
  },
  "language_info": {
   "codemirror_mode": {
    "name": "ipython",
    "version": 3
   },
   "file_extension": ".py",
   "mimetype": "text/x-python",
   "name": "python",
   "nbconvert_exporter": "python",
   "pygments_lexer": "ipython3",
   "version": "3.10.9"
  }
 },
 "nbformat": 4,
 "nbformat_minor": 2
}
